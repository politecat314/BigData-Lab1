{
 "cells": [
  {
   "cell_type": "markdown",
   "metadata": {},
   "source": [
    "## Exercise 1. Provide a histogram of word repetitions\n",
    "\n",
    "You are asked to design the map and reduce functions to provide a histogram of word repetitions in one or multiple text documents. That is, the number of words that are repeated once, the number of words that are repeated twice, the number of words that are repeated three times, etc.\n",
    "\n",
    "**Input**: A document or multiple documents, containing plain text. You can assume that each line (or document) is given a random ID that will be used as input key for the map phase, and the input values are the lines of text or entire documents. So the input may look like this:\n",
    "\n",
    "    (1, Welcome to the World)\n",
    "    (2, of Big Big Data)\n",
    "    (3, Welcome World Bye)\n",
    "\n",
    "**Output**: Your output should say how many words repeat 1, 2, etc. times, where the number of times is given as output key, and the total number of words repetitions as the value (i.e. `(number of repetitions, number of words)`). Thus, for the above input, the output should be as follows:\n",
    "\n",
    "    (1 time - 5 words)\n",
    "    (2 times - 3 words)\n",
    "\n",
    "**Hint**: You can concatenate as many MapReduce processes as you like, so for example you could first apply the solution for the Word Count and take that as input for the a second stage."
   ]
  },
  {
   "cell_type": "markdown",
   "metadata": {},
   "source": [
    "### Solution: "
   ]
  },
  {
   "cell_type": "markdown",
   "metadata": {},
   "source": [
    "![MapReduce 1](img/mapreduce1.png)"
   ]
  },
  {
   "cell_type": "markdown",
   "metadata": {},
   "source": [
    "We are implementing two MapReduce operations to build the histogram of word repetitions. "
   ]
  },
  {
   "cell_type": "markdown",
   "metadata": {},
   "source": [
    "### MapReduce 1\n",
    "\n",
    "- **Input**: Key-value pairs $(k1, v1)$ where $k1$ is the line number and $v1$ is the sentence.\n",
    "\n",
    "- **Map Function**: Maps $(k1, v1)$ into $(k2, v2)$ where $k2$ is the word and $v2$ is assigned a value of 1. (E.g., ('Welcome', 1)).\n",
    "\n",
    "- **Shuffle**: Performs shuffle operation to create a list of values $list(v2)$ corresponding to each unique key $k2$.\n",
    "\n",
    "- **Reduce Function**: Uses addition operation to add the values in the list $list(v2)$ for each key $k3$ in $k2$, assigning it a value $v3$.\n",
    "\n",
    "- **Output**: $(k3, v3)$ contains the word and the count of its occurrences.\n"
   ]
  },
  {
   "cell_type": "markdown",
   "metadata": {},
   "source": [
    "### MapReduce 2\n",
    "\n",
    "- **Input**: Key-value pairs $(k3, v3)$ where $k3$ is the word and $v3$ is it's occurance count.\n",
    "\n",
    "- **Map Function**: Maps $(k3, v3)$ into $(k4, v4)$ where $k4$ is $v3$ and $v4$ is assigned a value of 1.\n",
    "\n",
    "- **Combiners**: A mini-reducer is applied on (k4,v4) with addition to add the values in the local node for each unique key. \n",
    "\n",
    "- **Shuffle**: Performs shuffle operation to create a list of values $list(v4)$ corresponding to each unique key $k4$.\n",
    "\n",
    "- **Reduce Function**: Uses addition operation to add the values in the list $list(v4)$ for each key $k5$ in $k4$, assigning it as value $v5$.\n",
    "\n",
    "- **Output**: $(k5, v5)$ contains the number of word repetitions and the number of words with corresponding repetitions.\n"
   ]
  },
  {
   "cell_type": "markdown",
   "metadata": {},
   "source": [
    "## Exercise 2. Provide a histogram of the length of the words. \n",
    "\n",
    "\n",
    "You are asked to design the map and reduce functions to provide a histogram of the length of the words in one or multiple text documents. Word repetition is not a problem, so if you have the word 'bye' twice in your document, you would add 2 to the number of words of length 3.\n",
    "\n",
    "**Input**: Same as the previous exercise. So the input may look like this:\n",
    "\n",
    "    (1, Welcome to the World)\n",
    "    (2, of Big Big Data)\n",
    "    (3, Welcome World Bye)\n",
    "    \n",
    "**Output**: Your output should say how many words have a given length, where the length is given as output key, and the total number of words with such length is provided as the value (i.e. `(length, number of words)`). Thus, for the above input, the output should be as follows:\n",
    "\n",
    "    (2,2)\n",
    "    (3,4)\n",
    "    (4,1)\n",
    "    (5,2)\n",
    "    (7,2)\n",
    "\n"
   ]
  },
  {
   "cell_type": "markdown",
   "metadata": {},
   "source": [
    "### Solution: " 
   ]
  },
  {
   "cell_type": "markdown",
   "metadata": {},
   "source": [
    "![MapReduce 2](img/EX-02.png)"
   ]
  },
  {
   "cell_type": "markdown",
   "metadata": {},
   "source": [
    "We are implementing a MapReduce operation to build the histogram of length of words. "
   ]
  },
  {
   "cell_type": "markdown",
   "metadata": {},
   "source": [
    "### MapReduce \n",
    "\n",
    "- **Input**: Key-value pairs $(k1, v1)$ where $k1$ is the line number and $v1$ is the sentence.\n",
    "\n",
    "- **Map Function**: For each $k1$, we split the text $(v1)$ into words then get the length of the word where we will use as the key $(k2)$ for the output. Therefor $k2 = len(v1.split()[i])$ is the ith word of splitted text. For each $k2$ we will set the value $v2$ to $1$ we then obtained a list of key-value $list((k2, v2)) = list((len(v1.split()[i]), 1))$ as an output from the mapping stage. We also used mini reducer $lambda x, y: x+y$ to combine value with the same key from the mapping output.\n",
    "\n",
    "- **Shuffle**: The output from the mapping stage are sorted according to key $(k2)$ and the value withing the same key will be put together in the array. \n",
    "\n",
    "- **Reduce Function**: Again, we apply reduce function $lambda x, y: x+y$ to sum the value in the list for each key. Hence, we obtained (key, value) represent (word length, number of words)\n",
    "\n",
    "- **Output**: $(k3, v3)$ contains the word and the length of the word.\n"
   ]
  },
  {
   "cell_type": "markdown",
   "metadata": {},
   "source": []
  }
 ],
 "metadata": {
  "language_info": {
   "name": "python"
  }
 },
 "nbformat": 4,
 "nbformat_minor": 2
}
